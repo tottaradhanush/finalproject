{
 "cells": [
  {
   "cell_type": "markdown",
   "id": "8a9ef0ea",
   "metadata": {},
   "source": [
    "# Generating the data for the Hospital Resoource Allocation"
   ]
  },
  {
   "cell_type": "code",
   "execution_count": 25,
   "id": "968c0714",
   "metadata": {},
   "outputs": [],
   "source": [
    "import pandas as pd\n",
    "import numpy as np\n",
    "\n",
    "# Load dataset\n",
    "df = pd.read_csv('/finalproject/feature_engineering/time_series_data.csv')\n",
    "df = df[['ResidentDate', 'Total_Admissions']].copy()\n",
    "\n",
    "# Set fixed available resources\n",
    "df['Doctors_Available'] = 10\n",
    "df['Nurses_Available'] = 35\n",
    "df['Beds_Available'] = 150\n",
    "\n",
    "# Allocation function with enforcement\n",
    "def generate_allocated(adm, available):\n",
    "    base = min(adm, available - 1)\n",
    "    if base <= 0:\n",
    "        return 1\n",
    "    allocated = int(base + np.random.randint(-3, 4))  # Small fluctuation\n",
    "    allocated = max(1, allocated)  # Minimum 1\n",
    "    if allocated >= available:\n",
    "        allocated = available - 1  # Ensure strictly less\n",
    "    return allocated\n",
    "\n",
    "# Apply allocation\n",
    "df['Doctors_Allocated'] = df.apply(lambda row: generate_allocated(row['Total_Admissions'], row['Doctors_Available']), axis=1)\n",
    "df['Nurses_Allocated'] = df.apply(lambda row: generate_allocated(row['Total_Admissions'], row['Nurses_Available']), axis=1)\n",
    "df['Beds_Allocated'] = df.apply(lambda row: generate_allocated(row['Total_Admissions'], row['Beds_Available']), axis=1)\n",
    "\n",
    "# Final structure\n",
    "df = df[['ResidentDate', 'Total_Admissions',\n",
    "         'Doctors_Available', 'Doctors_Allocated',\n",
    "         'Nurses_Available', 'Nurses_Allocated',\n",
    "         'Beds_Available', 'Beds_Allocated']]\n",
    "\n",
    "# Save to CSV\n",
    "df.to_csv('resources_with_allocations.csv', index=False)\n"
   ]
  }
 ],
 "metadata": {
  "kernelspec": {
   "display_name": "Python 3",
   "language": "python",
   "name": "python3"
  },
  "language_info": {
   "codemirror_mode": {
    "name": "ipython",
    "version": 3
   },
   "file_extension": ".py",
   "mimetype": "text/x-python",
   "name": "python",
   "nbconvert_exporter": "python",
   "pygments_lexer": "ipython3",
   "version": "3.12.9"
  }
 },
 "nbformat": 4,
 "nbformat_minor": 5
}
