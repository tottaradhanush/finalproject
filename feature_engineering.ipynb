{
 "cells": [
  {
   "cell_type": "code",
   "execution_count": 37,
   "id": "c18c4b33",
   "metadata": {},
   "outputs": [],
   "source": [
    "import pandas as pd\n",
    "import numpy as np\n",
    "import matplotlib.pyplot as plt\n",
    "import seaborn as sns"
   ]
  },
  {
   "cell_type": "code",
   "execution_count": 38,
   "id": "dd4e3be6",
   "metadata": {},
   "outputs": [
    {
     "name": "stderr",
     "output_type": "stream",
     "text": [
      "C:\\Users\\Admin\\AppData\\Local\\Temp\\ipykernel_21232\\504517179.py:1: DtypeWarning: Columns (23,24) have mixed types. Specify dtype option on import or set low_memory=False.\n",
      "  df=pd.read_csv('hospital_data_cleaned.csv')\n"
     ]
    }
   ],
   "source": [
    "df=pd.read_csv('hospital_data_cleaned.csv')"
   ]
  },
  {
   "cell_type": "code",
   "execution_count": 39,
   "id": "06440e58",
   "metadata": {},
   "outputs": [
    {
     "name": "stderr",
     "output_type": "stream",
     "text": [
      "C:\\Users\\Admin\\AppData\\Local\\Temp\\ipykernel_21232\\574206490.py:7: DtypeWarning: Columns (23,24) have mixed types. Specify dtype option on import or set low_memory=False.\n",
      "  df = pd.read_csv('hospital_data_cleaned.csv')\n",
      "C:\\Users\\Admin\\AppData\\Local\\Temp\\ipykernel_21232\\574206490.py:64: FutureWarning: DataFrame.fillna with 'method' is deprecated and will raise in a future version. Use obj.ffill() or obj.bfill() instead.\n",
      "  daily_admissions.fillna(method='ffill', inplace=True)\n",
      "C:\\Users\\Admin\\AppData\\Local\\Temp\\ipykernel_21232\\574206490.py:85: FutureWarning: DataFrame.fillna with 'method' is deprecated and will raise in a future version. Use obj.ffill() or obj.bfill() instead.\n",
      "  df.fillna(method='bfill', inplace=True)\n"
     ]
    }
   ],
   "source": [
    "import pandas as pd\n",
    "\n",
    "# ==============================\n",
    "# STEP 1: Load Data\n",
    "# ==============================\n",
    "\n",
    "df = pd.read_csv('hospital_data_cleaned.csv')\n",
    "df['ResidentDate'] = pd.to_datetime(df['ResidentDate'])\n",
    "\n",
    "# ==============================\n",
    "# STEP 2: Basic Feature Engineering\n",
    "# ==============================\n",
    "\n",
    "# Time-based features\n",
    "df['ResidentDate_hour'] = df['ResidentDate'].dt.hour\n",
    "df['ResidentDate_weekday'] = df['ResidentDate'].dt.weekday\n",
    "df['ResidentDate_month'] = df['ResidentDate'].dt.month\n",
    "df['ResidentDate_year'] = df['ResidentDate'].dt.year\n",
    "df['is_weekend'] = df['ResidentDate_weekday'].isin([5, 6]).astype(int)\n",
    "df['season'] = df['ResidentDate_month'] % 12 // 3 + 1\n",
    "\n",
    "# Length of stay (if not already present)\n",
    "\n",
    "# Weather-based features\n",
    "df['temp_range'] = df['temperature_max'] - df['temperature_min']\n",
    "df['is_rain'] = (df['precipitation'] > 0).astype(int)\n",
    "\n",
    "# Event and external impact features\n",
    "df['event_flag'] = (df['event_type'] != \"No Event\").astype(int)\n",
    "df['disaster_flag'] = (df['disaster'] != \"None\").astype(int)\n",
    "df['pandemic_flag'] = (df['pandemic'] != \"None\").astype(int)\n",
    "\n",
    "# Demographics\n",
    "df['age_group'] = pd.cut(df['age'], bins=[0, 18, 35, 55, 75, 120], \n",
    "                                    labels=['Child', 'Young Adult', 'Adult', 'Senior', 'Elderly'])\n",
    "df['gender_encoded'] = df['gender'].map({'Male': 1, 'Female': 0})\n",
    "df['marital_Status'] = df['marital_Status'].fillna(0)\n",
    "\n",
    "# Discharge and referral info\n",
    "df['discharged'] = (df['StatusOnDischarge'].notnull()).astype(int)\n",
    "\n",
    "# Referral type (one-hot encoding)\n",
    "df = pd.get_dummies(df, columns=['KindRef'], prefix='ref', drop_first=True)\n",
    "\n",
    "# ==============================\n",
    "# STEP 3: Create Lag/Rolling Features\n",
    "# ==============================\n",
    "\n",
    "# Aggregate daily ER admissions using DischargeFromED\n",
    "daily_admissions = df.groupby('ResidentDate')['DischargeFromED'].sum().reset_index()\n",
    "daily_admissions = daily_admissions.sort_values('ResidentDate')\n",
    "\n",
    "# Lag and rolling statistics\n",
    "daily_admissions['ER_Admissions_Lag1'] = daily_admissions['DischargeFromED'].shift(1)\n",
    "daily_admissions['ER_Admissions_Lag7'] = daily_admissions['DischargeFromED'].shift(7)\n",
    "daily_admissions['ER_Admissions_MA7'] = daily_admissions['DischargeFromED'].rolling(window=7).mean()\n",
    "daily_admissions['ER_Admissions_MA14'] = daily_admissions['DischargeFromED'].rolling(window=14).mean()\n",
    "daily_admissions['ER_Admissions_EMA'] = daily_admissions['DischargeFromED'].ewm(span=7, adjust=False).mean()\n",
    "daily_admissions['ER_Admissions_Rolling_Std'] = daily_admissions['DischargeFromED'].rolling(window=7).std()\n",
    "daily_admissions['ER_Admissions_Rolling_Min'] = daily_admissions['DischargeFromED'].rolling(window=7).min()\n",
    "daily_admissions['ER_Admissions_Rolling_Max'] = daily_admissions['DischargeFromED'].rolling(window=7).max()\n",
    "\n",
    "# Forward fill for NaNs due to shifting and rolling\n",
    "daily_admissions.fillna(method='ffill', inplace=True)\n",
    "\n",
    "# ==============================\n",
    "# STEP 4: Merge Time Series Features into Main DataFrame\n",
    "# ==============================\n",
    "\n",
    "df = df.merge(\n",
    "    daily_admissions[['ResidentDate', \n",
    "                      'ER_Admissions_Lag1', \n",
    "                      'ER_Admissions_Lag7', \n",
    "                      'ER_Admissions_MA7', \n",
    "                      'ER_Admissions_MA14', \n",
    "                      'ER_Admissions_EMA', \n",
    "                      'ER_Admissions_Rolling_Std',\n",
    "                      'ER_Admissions_Rolling_Min', \n",
    "                      'ER_Admissions_Rolling_Max']],\n",
    "    on='ResidentDate',\n",
    "    how='left'\n",
    ")\n",
    "\n",
    "# Backfill any remaining NaNs\n",
    "df.fillna(method='bfill', inplace=True)\n",
    "\n",
    "# ==============================\n",
    "# STEP 5: Save to Single Output File\n",
    "# ==============================\n",
    "\n",
    "\n",
    "columns_to_keep = [\n",
    "    \"DischargeFromED\",\n",
    "    \"ResidentDate\", \"ResidentDate_year\", \"ResidentDate_month\", \"ResidentDate_day\",\n",
    "    \"ResidentDate_weekday\",\n",
    "    \"temperature_max\", \"temperature_min\", \"precipitation\", \"temp_range\", \"season\",\n",
    "    \"event_type\", \"pandemic\", \"disaster\",\n",
    "    \"is_weekend\", \"is_rain\",\n",
    "    \"ER_Admissions_Lag1\", \"ER_Admissions_Lag7\",\n",
    "    \"ER_Admissions_MA7\", \"ER_Admissions_MA14\", \"ER_Admissions_EMA\",\n",
    "    \"ER_Admissions_Rolling_Std\", \"ER_Admissions_Rolling_Min\", \"ER_Admissions_Rolling_Max\"\n",
    "]\n",
    "\n",
    "\n",
    "\n",
    "df_time_series = df[columns_to_keep]\n",
    "\n",
    "# (Optional) Save the cleaned dataset to a new CSV\n",
    "df_time_series.to_csv(\"feature_engineering_data.csv\", index=False)\n"
   ]
  },
  {
   "cell_type": "code",
   "execution_count": 40,
   "id": "4872c100",
   "metadata": {},
   "outputs": [
    {
     "name": "stdout",
     "output_type": "stream",
     "text": [
      "<class 'pandas.core.frame.DataFrame'>\n",
      "RangeIndex: 143280 entries, 0 to 143279\n",
      "Data columns (total 24 columns):\n",
      " #   Column                     Non-Null Count   Dtype         \n",
      "---  ------                     --------------   -----         \n",
      " 0   DischargeFromED            143280 non-null  int64         \n",
      " 1   ResidentDate               143280 non-null  datetime64[ns]\n",
      " 2   ResidentDate_year          143280 non-null  int32         \n",
      " 3   ResidentDate_month         143280 non-null  int32         \n",
      " 4   ResidentDate_day           143280 non-null  int64         \n",
      " 5   ResidentDate_weekday       143280 non-null  int32         \n",
      " 6   temperature_max            143280 non-null  float64       \n",
      " 7   temperature_min            143280 non-null  float64       \n",
      " 8   precipitation              143280 non-null  float64       \n",
      " 9   temp_range                 143280 non-null  float64       \n",
      " 10  season                     143280 non-null  int32         \n",
      " 11  event_type                 143280 non-null  object        \n",
      " 12  pandemic                   141795 non-null  object        \n",
      " 13  disaster                   139682 non-null  object        \n",
      " 14  is_weekend                 143280 non-null  int64         \n",
      " 15  is_rain                    143280 non-null  int64         \n",
      " 16  ER_Admissions_Lag1         143280 non-null  float64       \n",
      " 17  ER_Admissions_Lag7         143280 non-null  float64       \n",
      " 18  ER_Admissions_MA7          143280 non-null  float64       \n",
      " 19  ER_Admissions_MA14         143280 non-null  float64       \n",
      " 20  ER_Admissions_EMA          143280 non-null  float64       \n",
      " 21  ER_Admissions_Rolling_Std  143280 non-null  float64       \n",
      " 22  ER_Admissions_Rolling_Min  143280 non-null  float64       \n",
      " 23  ER_Admissions_Rolling_Max  143280 non-null  float64       \n",
      "dtypes: datetime64[ns](1), float64(12), int32(4), int64(4), object(3)\n",
      "memory usage: 24.0+ MB\n",
      "None\n"
     ]
    }
   ],
   "source": [
    "print(df_time_series.info())"
   ]
  },
  {
   "cell_type": "code",
   "execution_count": 41,
   "id": "8519332d",
   "metadata": {},
   "outputs": [
    {
     "data": {
      "text/plain": [
       "DischargeFromED                 2\n",
       "ResidentDate                 1819\n",
       "ResidentDate_year               6\n",
       "ResidentDate_month             12\n",
       "ResidentDate_day               31\n",
       "ResidentDate_weekday            7\n",
       "temperature_max               147\n",
       "temperature_min               118\n",
       "precipitation                 222\n",
       "temp_range                    201\n",
       "season                          4\n",
       "event_type                      3\n",
       "pandemic                        1\n",
       "disaster                        3\n",
       "is_weekend                      2\n",
       "is_rain                         2\n",
       "ER_Admissions_Lag1             99\n",
       "ER_Admissions_Lag7             99\n",
       "ER_Admissions_MA7             472\n",
       "ER_Admissions_MA14            702\n",
       "ER_Admissions_EMA            1819\n",
       "ER_Admissions_Rolling_Std    1736\n",
       "ER_Admissions_Rolling_Min      72\n",
       "ER_Admissions_Rolling_Max      88\n",
       "dtype: int64"
      ]
     },
     "execution_count": 41,
     "metadata": {},
     "output_type": "execute_result"
    }
   ],
   "source": [
    "df_time_series.nunique()"
   ]
  }
 ],
 "metadata": {
  "kernelspec": {
   "display_name": "Python 3",
   "language": "python",
   "name": "python3"
  },
  "language_info": {
   "codemirror_mode": {
    "name": "ipython",
    "version": 3
   },
   "file_extension": ".py",
   "mimetype": "text/x-python",
   "name": "python",
   "nbconvert_exporter": "python",
   "pygments_lexer": "ipython3",
   "version": "3.12.10"
  }
 },
 "nbformat": 4,
 "nbformat_minor": 5
}
