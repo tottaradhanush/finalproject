{
 "cells": [
  {
   "cell_type": "code",
   "execution_count": 7,
   "id": "c18c4b33",
   "metadata": {},
   "outputs": [],
   "source": [
    "import pandas as pd\n",
    "import numpy as np\n",
    "import matplotlib.pyplot as plt\n",
    "import seaborn as sns"
   ]
  },
  {
   "cell_type": "code",
   "execution_count": 8,
   "id": "dd4e3be6",
   "metadata": {},
   "outputs": [
    {
     "name": "stderr",
     "output_type": "stream",
     "text": [
      "C:\\Users\\TottaraDhanush\\AppData\\Local\\Temp\\ipykernel_8468\\504517179.py:1: DtypeWarning: Columns (23,24) have mixed types. Specify dtype option on import or set low_memory=False.\n",
      "  df=pd.read_csv('hospital_data_cleaned.csv')\n"
     ]
    }
   ],
   "source": [
    "df=pd.read_csv('hospital_data_cleaned.csv')"
   ]
  },
  {
   "cell_type": "code",
   "execution_count": 9,
   "id": "06440e58",
   "metadata": {},
   "outputs": [
    {
     "name": "stderr",
     "output_type": "stream",
     "text": [
      "C:\\Users\\TottaraDhanush\\AppData\\Local\\Temp\\ipykernel_8468\\2370917194.py:6: DtypeWarning: Columns (23,24) have mixed types. Specify dtype option on import or set low_memory=False.\n",
      "  df = pd.read_csv('hospital_data_cleaned.csv')\n",
      "C:\\Users\\TottaraDhanush\\AppData\\Local\\Temp\\ipykernel_8468\\2370917194.py:72: FutureWarning: DataFrame.fillna with 'method' is deprecated and will raise in a future version. Use obj.ffill() or obj.bfill() instead.\n",
      "  daily_df.fillna(method='bfill', inplace=True)\n"
     ]
    }
   ],
   "source": [
    "import pandas as pd\n",
    " \n",
    "# ==============================\n",
    "# STEP 1: Load Data\n",
    "# ==============================\n",
    "df = pd.read_csv('hospital_data_cleaned.csv')\n",
    "df['ResidentDate'] = pd.to_datetime(df['ResidentDate'])\n",
    " \n",
    "# ==============================\n",
    "# STEP 2: Process Pandemic and Disaster Flags\n",
    "# ==============================\n",
    "# Convert pandemic to binary flag (1 for Covid_Wave, 0 for None)\n",
    "df['pandemic_flag'] = (df['pandemic'] == 'Covid_Wave').astype(int)\n",
    " \n",
    "df['disaster'] = df['disaster'].fillna('None')  \n",
    "# Convert disaster to binary flag (1 for any disaster, 0 for None)\n",
    "df['disaster_flag'] = (df['disaster'] != 'None').astype(int)\n",
    " \n",
    "# ==============================\n",
    "# STEP 3: Aggregate to Daily Level (Unique Dates)\n",
    "# ==============================\n",
    "# Group by date to ensure one row per day\n",
    "daily_df = df.groupby('ResidentDate').agg({\n",
    "    'DischargeFromED': 'sum',          # Total daily discharges\n",
    "    'temperature_max': 'max',          # Daily max temp\n",
    "    'temperature_min': 'min',          # Daily min temp\n",
    "    'precipitation': 'sum',            # Total daily precipitation\n",
    "    'event_type': lambda x: x.mode()[0] if len(x.mode()) > 0 else \"No Event\",  # Most frequent event\n",
    "    'pandemic_flag': 'max',            # 1 if any record that day was pandemic\n",
    "    'disaster_flag': 'max'             # 1 if any record that day was disaster\n",
    "}).reset_index()\n",
    " \n",
    "# ==============================\n",
    "# STEP 4: Feature Engineering (Daily Level)\n",
    "# ==============================\n",
    "# Time features\n",
    "daily_df['ResidentDate_year'] = daily_df['ResidentDate'].dt.year\n",
    "daily_df['ResidentDate_month'] = daily_df['ResidentDate'].dt.month\n",
    "daily_df['ResidentDate_day'] = daily_df['ResidentDate'].dt.day\n",
    "daily_df['ResidentDate_weekday'] = daily_df['ResidentDate'].dt.weekday\n",
    "daily_df['is_weekend'] = daily_df['ResidentDate_weekday'].isin([5, 6]).astype(int)\n",
    "daily_df['season'] = daily_df['ResidentDate_month'] % 12 // 3 + 1\n",
    " \n",
    "# Weather features\n",
    "daily_df['temp_range'] = daily_df['temperature_max'] - daily_df['temperature_min']\n",
    "daily_df['is_rain'] = (daily_df['precipitation'] > 0).astype(int)\n",
    " \n",
    "# Event features (renamed to Festival)\n",
    "daily_df['Festival'] = (daily_df['event_type'] != \"No Event\").astype(int)\n",
    " \n",
    "# ==============================\n",
    "# STEP 5: Lag/Rolling Features (Daily)\n",
    "# ==============================\n",
    "daily_df = daily_df.sort_values('ResidentDate')\n",
    " \n",
    "# Rename DischargeFromED to Total_Admissions\n",
    "daily_df = daily_df.rename(columns={'DischargeFromED': 'Total_Admissions'})\n",
    " \n",
    "# Lag features\n",
    "daily_df['Total_Admissions_Lag1'] = daily_df['Total_Admissions'].shift(1)\n",
    "daily_df['Total_Admissions_Lag7'] = daily_df['Total_Admissions'].shift(7)\n",
    " \n",
    "# Rolling stats\n",
    "daily_df['Total_Admissions_MA7'] = daily_df['Total_Admissions'].rolling(window=7).mean()\n",
    "daily_df['Total_Admissions_MA14'] = daily_df['Total_Admissions'].rolling(window=14).mean()\n",
    "daily_df['Total_Admissions_EMA'] = daily_df['Total_Admissions'].ewm(span=7, adjust=False).mean()\n",
    "daily_df['Total_Admissions_Rolling_Std'] = daily_df['Total_Admissions'].rolling(window=7).std()\n",
    "daily_df['Total_Admissions_Rolling_Min'] = daily_df['Total_Admissions'].rolling(window=7).min()\n",
    "daily_df['Total_Admissions_Rolling_Max'] = daily_df['Total_Admissions'].rolling(window=7).max()\n",
    " \n",
    "# Fill NaNs (first 7 days won't have rolling stats)\n",
    "daily_df.fillna(method='bfill', inplace=True)\n",
    " \n",
    "# ==============================\n",
    "# STEP 6: Save Final Dataset\n",
    "# ==============================\n",
    "columns_to_keep = [\n",
    "    \"ResidentDate\",\n",
    "    \"Total_Admissions\",\n",
    "    \"ResidentDate_year\", \"ResidentDate_month\", \"ResidentDate_day\",\n",
    "    \"ResidentDate_weekday\", \"is_weekend\", \"season\",\n",
    "    \"temperature_max\", \"temperature_min\", \"temp_range\", \"precipitation\", \"is_rain\",\n",
    "    \"Festival\", \"pandemic_flag\", \"disaster_flag\",\n",
    "    \"Total_Admissions_Lag1\", \"Total_Admissions_Lag7\",\n",
    "    \"Total_Admissions_MA7\", \"Total_Admissions_MA14\", \"Total_Admissions_EMA\",\n",
    "    \"Total_Admissions_Rolling_Std\", \"Total_Admissions_Rolling_Min\", \"Total_Admissions_Rolling_Max\"\n",
    "]\n",
    " \n",
    "daily_df[columns_to_keep].to_csv(\"feature_engineering_data.csv\", index=False)\n",
    " "
   ]
  },
  {
   "cell_type": "code",
   "execution_count": 10,
   "id": "4872c100",
   "metadata": {},
   "outputs": [
    {
     "name": "stdout",
     "output_type": "stream",
     "text": [
      "<class 'pandas.core.frame.DataFrame'>\n",
      "RangeIndex: 1819 entries, 0 to 1818\n",
      "Data columns (total 25 columns):\n",
      " #   Column                        Non-Null Count  Dtype         \n",
      "---  ------                        --------------  -----         \n",
      " 0   ResidentDate                  1819 non-null   datetime64[ns]\n",
      " 1   Total_Admissions              1819 non-null   int64         \n",
      " 2   temperature_max               1819 non-null   float64       \n",
      " 3   temperature_min               1819 non-null   float64       \n",
      " 4   precipitation                 1819 non-null   float64       \n",
      " 5   event_type                    1819 non-null   object        \n",
      " 6   pandemic_flag                 1819 non-null   int64         \n",
      " 7   disaster_flag                 1819 non-null   int64         \n",
      " 8   ResidentDate_year             1819 non-null   int32         \n",
      " 9   ResidentDate_month            1819 non-null   int32         \n",
      " 10  ResidentDate_day              1819 non-null   int32         \n",
      " 11  ResidentDate_weekday          1819 non-null   int32         \n",
      " 12  is_weekend                    1819 non-null   int64         \n",
      " 13  season                        1819 non-null   int32         \n",
      " 14  temp_range                    1819 non-null   float64       \n",
      " 15  is_rain                       1819 non-null   int64         \n",
      " 16  Festival                      1819 non-null   int64         \n",
      " 17  Total_Admissions_Lag1         1819 non-null   float64       \n",
      " 18  Total_Admissions_Lag7         1819 non-null   float64       \n",
      " 19  Total_Admissions_MA7          1819 non-null   float64       \n",
      " 20  Total_Admissions_MA14         1819 non-null   float64       \n",
      " 21  Total_Admissions_EMA          1819 non-null   float64       \n",
      " 22  Total_Admissions_Rolling_Std  1819 non-null   float64       \n",
      " 23  Total_Admissions_Rolling_Min  1819 non-null   float64       \n",
      " 24  Total_Admissions_Rolling_Max  1819 non-null   float64       \n",
      "dtypes: datetime64[ns](1), float64(12), int32(5), int64(6), object(1)\n",
      "memory usage: 319.9+ KB\n",
      "None\n"
     ]
    }
   ],
   "source": [
    "print(daily_df.info())"
   ]
  },
  {
   "cell_type": "code",
   "execution_count": 11,
   "id": "8519332d",
   "metadata": {},
   "outputs": [
    {
     "data": {
      "text/plain": [
       "ResidentDate                    1819\n",
       "Total_Admissions                  99\n",
       "temperature_max                  147\n",
       "temperature_min                  118\n",
       "precipitation                    889\n",
       "event_type                         3\n",
       "pandemic_flag                      2\n",
       "disaster_flag                      2\n",
       "ResidentDate_year                  6\n",
       "ResidentDate_month                12\n",
       "ResidentDate_day                  31\n",
       "ResidentDate_weekday               7\n",
       "is_weekend                         2\n",
       "season                             4\n",
       "temp_range                       201\n",
       "is_rain                            2\n",
       "Festival                           2\n",
       "Total_Admissions_Lag1             99\n",
       "Total_Admissions_Lag7             99\n",
       "Total_Admissions_MA7             472\n",
       "Total_Admissions_MA14            702\n",
       "Total_Admissions_EMA            1819\n",
       "Total_Admissions_Rolling_Std    1736\n",
       "Total_Admissions_Rolling_Min      72\n",
       "Total_Admissions_Rolling_Max      88\n",
       "dtype: int64"
      ]
     },
     "execution_count": 11,
     "metadata": {},
     "output_type": "execute_result"
    }
   ],
   "source": [
    "daily_df.nunique()"
   ]
  }
 ],
 "metadata": {
  "kernelspec": {
   "display_name": "Python 3",
   "language": "python",
   "name": "python3"
  },
  "language_info": {
   "codemirror_mode": {
    "name": "ipython",
    "version": 3
   },
   "file_extension": ".py",
   "mimetype": "text/x-python",
   "name": "python",
   "nbconvert_exporter": "python",
   "pygments_lexer": "ipython3",
   "version": "3.12.9"
  }
 },
 "nbformat": 4,
 "nbformat_minor": 5
}
